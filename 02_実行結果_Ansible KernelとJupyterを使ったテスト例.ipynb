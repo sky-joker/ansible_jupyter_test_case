{
 "cells": [
  {
   "cell_type": "code",
   "execution_count": null,
   "metadata": {
    "collapsed": true,
    "jupyter": {
     "outputs_hidden": true
    }
   },
   "outputs": [],
   "source": [
    "#inventory\n",
    "[all]\n",
    "localhost ansible_connection=local"
   ]
  },
  {
   "cell_type": "code",
   "execution_count": null,
   "metadata": {
    "collapsed": true,
    "jupyter": {
     "outputs_hidden": true
    }
   },
   "outputs": [],
   "source": [
    "#play\n",
    "name: Test Name\n",
    "hosts: all\n",
    "gather_facts: no"
   ]
  },
  {
   "cell_type": "code",
   "execution_count": null,
   "metadata": {
    "collapsed": true,
    "jupyter": {
     "outputs_hidden": true
    }
   },
   "outputs": [],
   "source": [
    "## task\n",
    "name: Test Case 1\n",
    "shell: ls /opt\n",
    "register: test_case_1\n",
    "error_ignore: yes"
   ]
  },
  {
   "cell_type": "code",
   "execution_count": null,
   "metadata": {
    "collapsed": true,
    "jupyter": {
     "outputs_hidden": true
    }
   },
   "outputs": [],
   "source": [
    "## task\n",
    "name: Test Case 2 \n",
    "shell: ls /root\n",
    "register: test_case_2\n",
    "error_ignore: yes"
   ]
  },
  {
   "cell_type": "code",
   "execution_count": null,
   "metadata": {
    "collapsed": true,
    "jupyter": {
     "outputs_hidden": true
    }
   },
   "outputs": [],
   "source": [
    "## task\n",
    "name: Test Case 3\n",
    "shell: sl \n",
    "register: test_case_3\n",
    "error_ignore: yes"
   ]
  },
  {
   "cell_type": "code",
   "execution_count": null,
   "metadata": {},
   "outputs": [],
   "source": [
    "#python\n",
    "import pandas as pd\n",
    "\n",
    "# register変数の命名規則\n",
    "test_case_name = \"test_case_\"\n",
    "\n",
    "# テスト数\n",
    "case_number = 3\n",
    "\n",
    "test_case = []\n",
    "results = []\n",
    "def chk_rc(val):\n",
    "    if(val != 0):\n",
    "        return 'color: {0}; font-weight: bold'.format('red')\n",
    "    else:\n",
    "        return 'color: {0}'.format('black')\n",
    "\n",
    "for num in range(1,case_number + 1):\n",
    "    for k, v in list(globals().items()):\n",
    "        if(id(v) == id(eval(\"%s%s\" % (test_case_name, str(num))))):\n",
    "            test_case.append(k)\n",
    "            results.append(v['rc'])\n",
    "    \n",
    "table = pd.DataFrame({'test case': test_case,\n",
    "                     'results': results})\n",
    "                     \n",
    "table.style.applymap(chk_rc, subset=pd.IndexSlice[:, ['results']])"
   ]
  }
 ],
 "metadata": {
  "kernelspec": {
   "display_name": "Ansible",
   "language": "ansible",
   "name": "ansible"
  },
  "language_info": {
   "codemirror_mode": "yaml",
   "file_extension": ".yml",
   "mimetype": "text/yaml",
   "name": "ansible"
  }
 },
 "nbformat": 4,
 "nbformat_minor": 2
}
