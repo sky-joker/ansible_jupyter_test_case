{
 "cells": [
  {
   "cell_type": "code",
   "execution_count": 1,
   "metadata": {
    "collapsed": true,
    "jupyter": {
     "outputs_hidden": true
    }
   },
   "outputs": [],
   "source": [
    "#inventory\n",
    "[all]\n",
    "localhost ansible_connection=local"
   ]
  },
  {
   "cell_type": "code",
   "execution_count": 2,
   "metadata": {
    "collapsed": true,
    "jupyter": {
     "outputs_hidden": true
    }
   },
   "outputs": [
    {
     "name": "stdout",
     "output_type": "stream",
     "text": [
      "\n"
     ]
    }
   ],
   "source": [
    "#play\n",
    "name: Test Name\n",
    "hosts: all\n",
    "gather_facts: no"
   ]
  },
  {
   "cell_type": "code",
   "execution_count": 3,
   "metadata": {
    "collapsed": true,
    "jupyter": {
     "outputs_hidden": true
    }
   },
   "outputs": [
    {
     "name": "stdout",
     "output_type": "stream",
     "text": [
      "{'counter': 9,\n",
      " 'created': '2018-10-06T09:21:45.299384',\n",
      " 'end_line': 12,\n",
      " 'event': 'warning',\n",
      " 'event_data': {'pid': 18298,\n",
      "                'play': 'Test Name',\n",
      "                'play_pattern': 'all',\n",
      "                'play_uuid': '0242ac11-0002-a2bb-9151-000000000006',\n",
      "                'playbook': 'playbook.yml',\n",
      "                'playbook_uuid': '6a1d5169-e6a9-4c17-8d98-478579dc8176',\n",
      "                'task': 'include_tasks',\n",
      "                'task_action': 'include_tasks',\n",
      "                'task_args': '_raw_params=next_task0.yml',\n",
      "                'task_path': '/tmp/ansible_kernel_playbookctnq9gm2/project/playbook.yml:13',\n",
      "                'task_uuid': '0242ac11-0002-a2bb-9151-00000000000d',\n",
      "                'warning': True},\n",
      " 'pid': 18298,\n",
      " 'runner_ident': '096173b3-4f33-41ee-ab3a-4a0ac3a6d96a',\n",
      " 'start_line': 10,\n",
      " 'stdout': '\\x1b[1;35m [WARNING]: Ignoring invalid attribute: '\n",
      "           'error_ignore\\x1b[0m\\r\\n'\n",
      "           '\\x1b[1;35m\\x1b[0m',\n",
      " 'uuid': '725aea8a-0209-4356-aa69-639723e51a4d'}\n",
      "TASK [Test Case 1] *************************************************************\n",
      "changed: [localhost] => {\n",
      "    \"cmd\": \"ls /opt\",\n",
      "    \"delta\": \"0:00:00.661575\",\n",
      "    \"end\": \"2018-10-06 18:21:46.163129\",\n",
      "    \"rc\": 0,\n",
      "    \"start\": \"2018-10-06 18:21:45.501554\",\n",
      "    \"stderr\": \"\",\n",
      "    \"stderr_lines\": [],\n",
      "    \"stdout\": \"[see below]\",\n",
      "    \"stdout_lines\": \"[removed for clarity]\"\n",
      "}\n",
      "\n",
      "[localhost] stdout:\n",
      "microsoft\n"
     ]
    }
   ],
   "source": [
    "## task\n",
    "name: Test Case 1\n",
    "shell: ls /opt\n",
    "register: test_case_1\n",
    "error_ignore: yes"
   ]
  },
  {
   "cell_type": "code",
   "execution_count": 4,
   "metadata": {
    "collapsed": true,
    "jupyter": {
     "outputs_hidden": true
    }
   },
   "outputs": [
    {
     "name": "stdout",
     "output_type": "stream",
     "text": [
      "TASK [Test Case 2] *************************************************************\n",
      "fatal: [localhost]: FAILED! => {\n",
      "    \"cmd\": \"ls /root\",\n",
      "    \"delta\": \"0:00:00.669005\",\n",
      "    \"end\": \"2018-10-06 18:21:47.102509\",\n",
      "    \"msg\": \"non-zero return code\",\n",
      "    \"rc\": 2,\n",
      "    \"start\": \"2018-10-06 18:21:46.433504\",\n",
      "    \"stderr\": \"[see below]\",\n",
      "    \"stderr_lines\": \"[removed for clarity]\",\n",
      "    \"stdout\": \"\",\n",
      "    \"stdout_lines\": []\n",
      "}\n",
      "\n",
      "[localhost] stderr:\n",
      "ls: cannot open directory /root: Permission denied\n"
     ]
    }
   ],
   "source": [
    "## task\n",
    "name: Test Case 2 \n",
    "shell: ls /root\n",
    "register: test_case_2\n",
    "error_ignore: yes"
   ]
  },
  {
   "cell_type": "code",
   "execution_count": 5,
   "metadata": {
    "collapsed": true,
    "jupyter": {
     "outputs_hidden": true
    }
   },
   "outputs": [
    {
     "name": "stdout",
     "output_type": "stream",
     "text": [
      "TASK [Test Case 3] *************************************************************\n",
      "fatal: [localhost]: FAILED! => {\n",
      "    \"cmd\": \"sl\",\n",
      "    \"delta\": \"0:00:00.665221\",\n",
      "    \"end\": \"2018-10-06 18:21:48.041080\",\n",
      "    \"msg\": \"non-zero return code\",\n",
      "    \"rc\": 127,\n",
      "    \"start\": \"2018-10-06 18:21:47.375859\",\n",
      "    \"stderr\": \"[see below]\",\n",
      "    \"stderr_lines\": \"[removed for clarity]\",\n",
      "    \"stdout\": \"\",\n",
      "    \"stdout_lines\": []\n",
      "}\n",
      "\n",
      "[localhost] stderr:\n",
      "/bin/sh: sl: command not found\n"
     ]
    }
   ],
   "source": [
    "## task\n",
    "name: Test Case 3\n",
    "shell: sl \n",
    "register: test_case_3\n",
    "error_ignore: yes"
   ]
  },
  {
   "cell_type": "code",
   "execution_count": 6,
   "metadata": {},
   "outputs": [
    {
     "data": {
      "text/html": [
       "<style  type=\"text/css\" >\n",
       "    #T_404bb210_c949_11e8_b56a_0242ac110002row0_col1 {\n",
       "            color:  black;\n",
       "        }    #T_404bb210_c949_11e8_b56a_0242ac110002row1_col1 {\n",
       "            color:  red;\n",
       "             font-weight:  bold;\n",
       "        }    #T_404bb210_c949_11e8_b56a_0242ac110002row2_col1 {\n",
       "            color:  red;\n",
       "             font-weight:  bold;\n",
       "        }</style>  \n",
       "<table id=\"T_404bb210_c949_11e8_b56a_0242ac110002\" > \n",
       "<thead>    <tr> \n",
       "        <th class=\"blank level0\" ></th> \n",
       "        <th class=\"col_heading level0 col0\" >test case</th> \n",
       "        <th class=\"col_heading level0 col1\" >results</th> \n",
       "    </tr></thead> \n",
       "<tbody>    <tr> \n",
       "        <th id=\"T_404bb210_c949_11e8_b56a_0242ac110002level0_row0\" class=\"row_heading level0 row0\" >0</th> \n",
       "        <td id=\"T_404bb210_c949_11e8_b56a_0242ac110002row0_col0\" class=\"data row0 col0\" >test_case_1</td> \n",
       "        <td id=\"T_404bb210_c949_11e8_b56a_0242ac110002row0_col1\" class=\"data row0 col1\" >0</td> \n",
       "    </tr>    <tr> \n",
       "        <th id=\"T_404bb210_c949_11e8_b56a_0242ac110002level0_row1\" class=\"row_heading level0 row1\" >1</th> \n",
       "        <td id=\"T_404bb210_c949_11e8_b56a_0242ac110002row1_col0\" class=\"data row1 col0\" >test_case_2</td> \n",
       "        <td id=\"T_404bb210_c949_11e8_b56a_0242ac110002row1_col1\" class=\"data row1 col1\" >2</td> \n",
       "    </tr>    <tr> \n",
       "        <th id=\"T_404bb210_c949_11e8_b56a_0242ac110002level0_row2\" class=\"row_heading level0 row2\" >2</th> \n",
       "        <td id=\"T_404bb210_c949_11e8_b56a_0242ac110002row2_col0\" class=\"data row2 col0\" >test_case_3</td> \n",
       "        <td id=\"T_404bb210_c949_11e8_b56a_0242ac110002row2_col1\" class=\"data row2 col1\" >127</td> \n",
       "    </tr></tbody> \n",
       "</table> "
      ],
      "text/plain": [
       "<pandas.io.formats.style.Styler at 0x7f25be142400>"
      ]
     },
     "execution_count": 1,
     "metadata": {},
     "output_type": "execute_result"
    }
   ],
   "source": [
    "#python\n",
    "from inspect import currentframe\n",
    "import pandas as pd\n",
    "\n",
    "# register変数の命名規則\n",
    "test_case_name = \"test_case_\"\n",
    "\n",
    "# テスト数\n",
    "case_number = 3\n",
    "\n",
    "test_case = []\n",
    "results = []\n",
    "def chk_rc(val):\n",
    "    if(val != 0):\n",
    "        return 'color: {0}; font-weight: bold'.format('red')\n",
    "    else:\n",
    "        return 'color: {0}'.format('black')\n",
    "\n",
    "for num in range(1,case_number + 1):\n",
    "    for k, v in list(globals().items()):\n",
    "        if(id(v) == id(eval(\"%s%s\" % (test_case_name, str(num))))):\n",
    "            test_case.append(k)\n",
    "            results.append(v['rc'])\n",
    "    \n",
    "table = pd.DataFrame({'test case': test_case,\n",
    "                     'results': results})\n",
    "                     \n",
    "table.style.applymap(chk_rc, subset=pd.IndexSlice[:, ['results']])"
   ]
  }
 ],
 "metadata": {
  "kernelspec": {
   "display_name": "Ansible",
   "language": "ansible",
   "name": "ansible"
  },
  "language_info": {
   "codemirror_mode": "yaml",
   "file_extension": ".yml",
   "mimetype": "text/yaml",
   "name": "ansible"
  }
 },
 "nbformat": 4,
 "nbformat_minor": 2
}
