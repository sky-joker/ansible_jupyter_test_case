{
 "cells": [
  {
   "cell_type": "code",
   "execution_count": 1,
   "metadata": {},
   "outputs": [],
   "source": [
    "#inventory\n",
    "[all]\n",
    "localhost ansible_connection=local"
   ]
  },
  {
   "cell_type": "code",
   "execution_count": 2,
   "metadata": {},
   "outputs": [
    {
     "name": "stdout",
     "output_type": "stream",
     "text": [
      "\n"
     ]
    }
   ],
   "source": [
    "#play\n",
    "name: Test Name\n",
    "hosts: all\n",
    "gather_facts: no"
   ]
  },
  {
   "cell_type": "code",
   "execution_count": 3,
   "metadata": {},
   "outputs": [
    {
     "name": "stdout",
     "output_type": "stream",
     "text": [
      "{'counter': 9,\n",
      " 'created': '2018-10-06T09:02:25.682581',\n",
      " 'end_line': 12,\n",
      " 'event': 'warning',\n",
      " 'event_data': {'pid': 17911,\n",
      "                'play': 'Test Name',\n",
      "                'play_pattern': 'all',\n",
      "                'play_uuid': '0242ac11-0002-cabc-b494-000000000006',\n",
      "                'playbook': 'playbook.yml',\n",
      "                'playbook_uuid': 'c5ab1437-8bab-46e6-9488-6fd5a97de154',\n",
      "                'task': 'include_tasks',\n",
      "                'task_action': 'include_tasks',\n",
      "                'task_args': '_raw_params=next_task0.yml',\n",
      "                'task_path': '/tmp/ansible_kernel_playbook80oga3te/project/playbook.yml:13',\n",
      "                'task_uuid': '0242ac11-0002-cabc-b494-00000000000d',\n",
      "                'warning': True},\n",
      " 'pid': 17911,\n",
      " 'runner_ident': '6f941ae9-850b-4c1b-9835-600e503a67af',\n",
      " 'start_line': 10,\n",
      " 'stdout': '\\x1b[1;35m [WARNING]: Ignoring invalid attribute: '\n",
      "           'error_ignore\\x1b[0m\\r\\n'\n",
      "           '\\x1b[1;35m\\x1b[0m',\n",
      " 'uuid': '79eac40b-fe29-4b9c-9118-d6ac32b3422b'}\n",
      "TASK [Test Case 1] *************************************************************\n",
      "changed: [localhost] => {\n",
      "    \"cmd\": \"ls /opt\",\n",
      "    \"delta\": \"0:00:00.660378\",\n",
      "    \"end\": \"2018-10-06 18:02:26.546690\",\n",
      "    \"rc\": 0,\n",
      "    \"start\": \"2018-10-06 18:02:25.886312\",\n",
      "    \"stderr\": \"\",\n",
      "    \"stderr_lines\": [],\n",
      "    \"stdout\": \"[see below]\",\n",
      "    \"stdout_lines\": \"[removed for clarity]\"\n",
      "}\n",
      "\n",
      "[localhost] stdout:\n",
      "microsoft\n"
     ]
    }
   ],
   "source": [
    "## task\n",
    "name: Test Case 1\n",
    "shell: ls /opt\n",
    "register: test_case_1\n",
    "error_ignore: yes"
   ]
  },
  {
   "cell_type": "code",
   "execution_count": 4,
   "metadata": {},
   "outputs": [
    {
     "name": "stdout",
     "output_type": "stream",
     "text": [
      "TASK [Test Case 1] *************************************************************\n",
      "fatal: [localhost]: FAILED! => {\n",
      "    \"cmd\": \"ls /root\",\n",
      "    \"delta\": \"0:00:00.677822\",\n",
      "    \"end\": \"2018-10-06 18:02:27.503978\",\n",
      "    \"msg\": \"non-zero return code\",\n",
      "    \"rc\": 2,\n",
      "    \"start\": \"2018-10-06 18:02:26.826156\",\n",
      "    \"stderr\": \"[see below]\",\n",
      "    \"stderr_lines\": \"[removed for clarity]\",\n",
      "    \"stdout\": \"\",\n",
      "    \"stdout_lines\": []\n",
      "}\n",
      "\n",
      "[localhost] stderr:\n",
      "ls: cannot open directory /root: Permission denied\n"
     ]
    }
   ],
   "source": [
    "## task\n",
    "name: Test Case 1\n",
    "shell: ls /root\n",
    "register: test_case_2\n",
    "error_ignore: yes"
   ]
  },
  {
   "cell_type": "code",
   "execution_count": 5,
   "metadata": {},
   "outputs": [
    {
     "name": "stdout",
     "output_type": "stream",
     "text": [
      "TASK [Test Case 1] *************************************************************\n",
      "fatal: [localhost]: FAILED! => {\n",
      "    \"cmd\": \"sl\",\n",
      "    \"delta\": \"0:00:00.663615\",\n",
      "    \"end\": \"2018-10-06 18:02:28.447179\",\n",
      "    \"msg\": \"non-zero return code\",\n",
      "    \"rc\": 127,\n",
      "    \"start\": \"2018-10-06 18:02:27.783564\",\n",
      "    \"stderr\": \"[see below]\",\n",
      "    \"stderr_lines\": \"[removed for clarity]\",\n",
      "    \"stdout\": \"\",\n",
      "    \"stdout_lines\": []\n",
      "}\n",
      "\n",
      "[localhost] stderr:\n",
      "/bin/sh: sl: command not found\n"
     ]
    }
   ],
   "source": [
    "## task\n",
    "name: Test Case 1\n",
    "shell: sl \n",
    "register: test_case_3\n",
    "error_ignore: yes"
   ]
  },
  {
   "cell_type": "code",
   "execution_count": 6,
   "metadata": {},
   "outputs": [
    {
     "data": {
      "text/html": [
       "<style  type=\"text/css\" >\n",
       "    #T_8d20d6fe_c946_11e8_bdf7_0242ac110002row0_col1 {\n",
       "            color:  black;\n",
       "        }    #T_8d20d6fe_c946_11e8_bdf7_0242ac110002row1_col1 {\n",
       "            color:  red;\n",
       "             font-weight:  bold;\n",
       "        }    #T_8d20d6fe_c946_11e8_bdf7_0242ac110002row2_col1 {\n",
       "            color:  red;\n",
       "             font-weight:  bold;\n",
       "        }</style>  \n",
       "<table id=\"T_8d20d6fe_c946_11e8_bdf7_0242ac110002\" > \n",
       "<thead>    <tr> \n",
       "        <th class=\"blank level0\" ></th> \n",
       "        <th class=\"col_heading level0 col0\" >test case</th> \n",
       "        <th class=\"col_heading level0 col1\" >results</th> \n",
       "    </tr></thead> \n",
       "<tbody>    <tr> \n",
       "        <th id=\"T_8d20d6fe_c946_11e8_bdf7_0242ac110002level0_row0\" class=\"row_heading level0 row0\" >0</th> \n",
       "        <td id=\"T_8d20d6fe_c946_11e8_bdf7_0242ac110002row0_col0\" class=\"data row0 col0\" >test_case_1</td> \n",
       "        <td id=\"T_8d20d6fe_c946_11e8_bdf7_0242ac110002row0_col1\" class=\"data row0 col1\" >0</td> \n",
       "    </tr>    <tr> \n",
       "        <th id=\"T_8d20d6fe_c946_11e8_bdf7_0242ac110002level0_row1\" class=\"row_heading level0 row1\" >1</th> \n",
       "        <td id=\"T_8d20d6fe_c946_11e8_bdf7_0242ac110002row1_col0\" class=\"data row1 col0\" >test_case_2</td> \n",
       "        <td id=\"T_8d20d6fe_c946_11e8_bdf7_0242ac110002row1_col1\" class=\"data row1 col1\" >2</td> \n",
       "    </tr>    <tr> \n",
       "        <th id=\"T_8d20d6fe_c946_11e8_bdf7_0242ac110002level0_row2\" class=\"row_heading level0 row2\" >2</th> \n",
       "        <td id=\"T_8d20d6fe_c946_11e8_bdf7_0242ac110002row2_col0\" class=\"data row2 col0\" >test_case_3</td> \n",
       "        <td id=\"T_8d20d6fe_c946_11e8_bdf7_0242ac110002row2_col1\" class=\"data row2 col1\" >127</td> \n",
       "    </tr></tbody> \n",
       "</table> "
      ],
      "text/plain": [
       "<pandas.io.formats.style.Styler at 0x7fef072859e8>"
      ]
     },
     "execution_count": 1,
     "metadata": {},
     "output_type": "execute_result"
    }
   ],
   "source": [
    "#python\n",
    "from inspect import currentframe\n",
    "import pandas as pd\n",
    "\n",
    "# register変数の命名規則\n",
    "test_case_name = \"test_case_\"\n",
    "\n",
    "# テスト数\n",
    "case_number = 3\n",
    "\n",
    "test_case = []\n",
    "results = []\n",
    "def chk_rc(val):\n",
    "    if(val != 0):\n",
    "        return 'color: {0}; font-weight: bold'.format('red')\n",
    "    else:\n",
    "        return 'color: {0}'.format('black')\n",
    "\n",
    "for num in range(1,case_number + 1):\n",
    "    for k, v in list(globals().items()):\n",
    "        if(id(v) == id(eval(\"%s%s\" % (test_case_name, str(num))))):\n",
    "            test_case.append(k)\n",
    "            results.append(v['rc'])\n",
    "    \n",
    "table = pd.DataFrame({'test case': test_case,\n",
    "                     'results': results})\n",
    "                     \n",
    "table.style.applymap(chk_rc, subset=pd.IndexSlice[:, ['results']])"
   ]
  }
 ],
 "metadata": {
  "kernelspec": {
   "display_name": "Ansible",
   "language": "ansible",
   "name": "ansible"
  },
  "language_info": {
   "codemirror_mode": "yaml",
   "file_extension": ".yml",
   "mimetype": "text/yaml",
   "name": "ansible"
  }
 },
 "nbformat": 4,
 "nbformat_minor": 2
}
