{
 "cells": [
  {
   "cell_type": "code",
   "execution_count": 1,
   "metadata": {},
   "outputs": [],
   "source": [
    "#inventory\n",
    "[all]\n",
    "localhost ansible_connection=local"
   ]
  },
  {
   "cell_type": "code",
   "execution_count": 2,
   "metadata": {},
   "outputs": [
    {
     "name": "stdout",
     "output_type": "stream",
     "text": [
      "\n"
     ]
    }
   ],
   "source": [
    "#play\n",
    "name: Test Name\n",
    "hosts: all\n",
    "gather_facts: no"
   ]
  },
  {
   "cell_type": "code",
   "execution_count": 3,
   "metadata": {},
   "outputs": [
    {
     "name": "stdout",
     "output_type": "stream",
     "text": [
      "{'counter': 9,\n",
      " 'created': '2018-10-06T16:38:55.389147',\n",
      " 'end_line': 12,\n",
      " 'event': 'warning',\n",
      " 'event_data': {'pid': 18719,\n",
      "                'play': 'Test Name',\n",
      "                'play_pattern': 'all',\n",
      "                'play_uuid': '0242ac11-0002-804c-d46c-000000000006',\n",
      "                'playbook': 'playbook.yml',\n",
      "                'playbook_uuid': '11f5242a-5d58-47e0-b432-438168ebb18a',\n",
      "                'task': 'include_tasks',\n",
      "                'task_action': 'include_tasks',\n",
      "                'task_args': '_raw_params=next_task0.yml',\n",
      "                'task_path': '/tmp/ansible_kernel_playbookgamedf7x/project/playbook.yml:13',\n",
      "                'task_uuid': '0242ac11-0002-804c-d46c-00000000000d',\n",
      "                'warning': True},\n",
      " 'pid': 18719,\n",
      " 'runner_ident': 'f0bb2a86-6405-4b14-92aa-c2addfad7a44',\n",
      " 'start_line': 10,\n",
      " 'stdout': '\\x1b[1;35m [WARNING]: Ignoring invalid attribute: '\n",
      "           'error_ignore\\x1b[0m\\r\\n'\n",
      "           '\\x1b[1;35m\\x1b[0m',\n",
      " 'uuid': '2ed3bf24-65a1-4f2b-a16e-8c8e61b055a6'}\n",
      "TASK [Test Case 1] *************************************************************\n",
      "changed: [localhost] => {\n",
      "    \"cmd\": \"ls /opt\",\n",
      "    \"delta\": \"0:00:00.672286\",\n",
      "    \"end\": \"2018-10-07 01:38:56.254162\",\n",
      "    \"rc\": 0,\n",
      "    \"start\": \"2018-10-07 01:38:55.581876\",\n",
      "    \"stderr\": \"\",\n",
      "    \"stderr_lines\": [],\n",
      "    \"stdout\": \"[see below]\",\n",
      "    \"stdout_lines\": \"[removed for clarity]\"\n",
      "}\n",
      "\n",
      "[localhost] stdout:\n",
      "microsoft\n"
     ]
    }
   ],
   "source": [
    "## task\n",
    "name: Test Case 1\n",
    "shell: ls /opt\n",
    "register: test_case_1\n",
    "error_ignore: yes"
   ]
  },
  {
   "cell_type": "code",
   "execution_count": 4,
   "metadata": {},
   "outputs": [
    {
     "name": "stdout",
     "output_type": "stream",
     "text": [
      "TASK [Test Case 2] *************************************************************\n",
      "fatal: [localhost]: FAILED! => {\n",
      "    \"cmd\": \"ls /root\",\n",
      "    \"delta\": \"0:00:00.672350\",\n",
      "    \"end\": \"2018-10-07 01:38:57.176256\",\n",
      "    \"msg\": \"non-zero return code\",\n",
      "    \"rc\": 2,\n",
      "    \"start\": \"2018-10-07 01:38:56.503906\",\n",
      "    \"stderr\": \"[see below]\",\n",
      "    \"stderr_lines\": \"[removed for clarity]\",\n",
      "    \"stdout\": \"\",\n",
      "    \"stdout_lines\": []\n",
      "}\n",
      "\n",
      "[localhost] stderr:\n",
      "ls: cannot open directory /root: Permission denied\n"
     ]
    }
   ],
   "source": [
    "## task\n",
    "name: Test Case 2 \n",
    "shell: ls /root\n",
    "register: test_case_2\n",
    "error_ignore: yes"
   ]
  },
  {
   "cell_type": "code",
   "execution_count": 5,
   "metadata": {},
   "outputs": [
    {
     "name": "stdout",
     "output_type": "stream",
     "text": [
      "TASK [Test Case 3] *************************************************************\n",
      "fatal: [localhost]: FAILED! => {\n",
      "    \"cmd\": \"sl\",\n",
      "    \"delta\": \"0:00:00.672968\",\n",
      "    \"end\": \"2018-10-07 01:38:58.098216\",\n",
      "    \"msg\": \"non-zero return code\",\n",
      "    \"rc\": 127,\n",
      "    \"start\": \"2018-10-07 01:38:57.425248\",\n",
      "    \"stderr\": \"[see below]\",\n",
      "    \"stderr_lines\": \"[removed for clarity]\",\n",
      "    \"stdout\": \"\",\n",
      "    \"stdout_lines\": []\n",
      "}\n",
      "\n",
      "[localhost] stderr:\n",
      "/bin/sh: sl: command not found\n"
     ]
    }
   ],
   "source": [
    "## task\n",
    "name: Test Case 3\n",
    "shell: sl \n",
    "register: test_case_3\n",
    "error_ignore: yes"
   ]
  },
  {
   "cell_type": "code",
   "execution_count": 6,
   "metadata": {},
   "outputs": [
    {
     "data": {
      "text/html": [
       "<style  type=\"text/css\" >\n",
       "    #T_529d8d5c_c986_11e8_a86f_0242ac110002row0_col1 {\n",
       "            color:  black;\n",
       "        }    #T_529d8d5c_c986_11e8_a86f_0242ac110002row1_col1 {\n",
       "            color:  red;\n",
       "             font-weight:  bold;\n",
       "        }    #T_529d8d5c_c986_11e8_a86f_0242ac110002row2_col1 {\n",
       "            color:  red;\n",
       "             font-weight:  bold;\n",
       "        }</style>  \n",
       "<table id=\"T_529d8d5c_c986_11e8_a86f_0242ac110002\" > \n",
       "<thead>    <tr> \n",
       "        <th class=\"blank level0\" ></th> \n",
       "        <th class=\"col_heading level0 col0\" >test case</th> \n",
       "        <th class=\"col_heading level0 col1\" >results</th> \n",
       "    </tr></thead> \n",
       "<tbody>    <tr> \n",
       "        <th id=\"T_529d8d5c_c986_11e8_a86f_0242ac110002level0_row0\" class=\"row_heading level0 row0\" >0</th> \n",
       "        <td id=\"T_529d8d5c_c986_11e8_a86f_0242ac110002row0_col0\" class=\"data row0 col0\" >test_case_1</td> \n",
       "        <td id=\"T_529d8d5c_c986_11e8_a86f_0242ac110002row0_col1\" class=\"data row0 col1\" >0</td> \n",
       "    </tr>    <tr> \n",
       "        <th id=\"T_529d8d5c_c986_11e8_a86f_0242ac110002level0_row1\" class=\"row_heading level0 row1\" >1</th> \n",
       "        <td id=\"T_529d8d5c_c986_11e8_a86f_0242ac110002row1_col0\" class=\"data row1 col0\" >test_case_2</td> \n",
       "        <td id=\"T_529d8d5c_c986_11e8_a86f_0242ac110002row1_col1\" class=\"data row1 col1\" >2</td> \n",
       "    </tr>    <tr> \n",
       "        <th id=\"T_529d8d5c_c986_11e8_a86f_0242ac110002level0_row2\" class=\"row_heading level0 row2\" >2</th> \n",
       "        <td id=\"T_529d8d5c_c986_11e8_a86f_0242ac110002row2_col0\" class=\"data row2 col0\" >test_case_3</td> \n",
       "        <td id=\"T_529d8d5c_c986_11e8_a86f_0242ac110002row2_col1\" class=\"data row2 col1\" >127</td> \n",
       "    </tr></tbody> \n",
       "</table> "
      ],
      "text/plain": [
       "<pandas.io.formats.style.Styler at 0x7f0fa7f39198>"
      ]
     },
     "execution_count": 1,
     "metadata": {},
     "output_type": "execute_result"
    }
   ],
   "source": [
    "#python\n",
    "import pandas as pd\n",
    "\n",
    "# register変数の命名規則\n",
    "test_case_name = \"test_case_\"\n",
    "\n",
    "# テスト数\n",
    "case_number = 3\n",
    "\n",
    "test_case = []\n",
    "results = []\n",
    "def chk_rc(val):\n",
    "    if(val != 0):\n",
    "        return 'color: {0}; font-weight: bold'.format('red')\n",
    "    else:\n",
    "        return 'color: {0}'.format('black')\n",
    "\n",
    "for num in range(1,case_number + 1):\n",
    "    for k, v in list(globals().items()):\n",
    "        if(id(v) == id(eval(\"%s%s\" % (test_case_name, str(num))))):\n",
    "            test_case.append(k)\n",
    "            results.append(v['rc'])\n",
    "    \n",
    "table = pd.DataFrame({'test case': test_case,\n",
    "                     'results': results})\n",
    "                     \n",
    "table.style.applymap(chk_rc, subset=pd.IndexSlice[:, ['results']])"
   ]
  }
 ],
 "metadata": {
  "kernelspec": {
   "display_name": "Ansible",
   "language": "ansible",
   "name": "ansible"
  },
  "language_info": {
   "codemirror_mode": "yaml",
   "file_extension": ".yml",
   "mimetype": "text/yaml",
   "name": "ansible"
  }
 },
 "nbformat": 4,
 "nbformat_minor": 2
}
